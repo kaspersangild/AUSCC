{
 "cells": [
  {
   "cell_type": "markdown",
   "metadata": {},
   "source": [
    "# Introduction\n",
    "This note contains a few examples demonstrating how to use the Circuit class in AUSCC. First you will need to import AUSCC and Sympy:"
   ]
  },
  {
   "cell_type": "code",
   "execution_count": 1,
   "metadata": {},
   "outputs": [],
   "source": [
    "import auscc as au\n",
    "import sympy as sp"
   ]
  },
  {
   "cell_type": "markdown",
   "metadata": {},
   "source": [
    "In most cases one would you would probably also want QuTiP and Numpy imported, since these are heavily used. It also realy nice to set sympy to print latex:"
   ]
  },
  {
   "cell_type": "code",
   "execution_count": 2,
   "metadata": {},
   "outputs": [],
   "source": [
    "sp.init_printing()"
   ]
  },
  {
   "cell_type": "markdown",
   "metadata": {},
   "source": [
    "# Transmon with readout resonator\n",
    "## Classical analysis\n",
    "Let's build a transmon with readout resonator as in the original Koch et al paper:"
   ]
  },
  {
   "cell_type": "code",
   "execution_count": 3,
   "metadata": {},
   "outputs": [
    {
     "name": "stdout",
     "output_type": "stream",
     "text": [
      "LC oscillator\n",
      "Circuit with 2 node(s)\n",
      "Branches:\n",
      "Capacitor           C_r        from 0 to 1\n",
      "Inductor            L_r        from 0 to 1\n",
      "Capacitor           C_{in}     from 0 to 1\n",
      "Capacitor           C_g        from 1 to 2\n",
      "Capacitor           C_B        from 0 to 2\n",
      "Josephson junction  E_J        from 0 to 2\n",
      "Josephson junction  E_J        from 0 to 2\n",
      "\n"
     ]
    }
   ],
   "source": [
    "print('LC oscillator')\n",
    "Cr, Lr, Cin, Cg, EJ, CB, CJ, Vg, phi = sp.symbols('C_r, L_r, C_{in}, C_g, E_J, C_B, C_J, V_g, \\Phi')\n",
    "circ = au.Circuit()\n",
    "circ.add_branch(start=0, end=1, type='Capacitor', symbol = Cr)\n",
    "circ.add_branch(start=0, end=1, type='Inductor', symbol = Lr)\n",
    "circ.add_branch(start=0, end=1, type='Capacitor', symbol = Cin, bias_voltage = Vg)\n",
    "circ.add_branch(start=1, end=2, type='Capacitor', symbol = Cg)\n",
    "circ.add_branch(start=0, end=2, type='Capacitor', symbol = CB)\n",
    "circ.add_branch(start=0, end=2, type='Josephson Junction', symbol = EJ, bias_flux = -phi/2)\n",
    "circ.add_branch(start=0, end=2, type='Josephson Junction', symbol = EJ, bias_flux = phi/2)\n",
    "circ.ignore_coords(0)\n",
    "print(circ)"
   ]
  },
  {
   "cell_type": "markdown",
   "metadata": {},
   "source": [
    "We can get a symbolic expression for the potential by calling:"
   ]
  },
  {
   "cell_type": "code",
   "execution_count": 4,
   "metadata": {},
   "outputs": [
    {
     "data": {
      "image/png": "[encoded data removed]",
      "text/latex": [
       "$$\\left ( \\left[\\begin{matrix}x_{1}\\\\x_{2}\\end{matrix}\\right], \\quad - 2 E_{J} \\cos{\\left (\\frac{\\Phi}{2} \\right )} \\cos{\\left (x_{2} \\right )} + 2 E_{J} + \\frac{x_{1}^{2}}{2 L_{r}}\\right )$$"
      ],
      "text/plain": [
       "⎛                                                     2⎞\n",
       "⎜⎡x_{1}⎤             ⎛\\Phi⎞                      x_{1} ⎟\n",
       "⎜⎢     ⎥, - 2⋅E_J⋅cos⎜────⎟⋅cos(x_{2}) + 2⋅E_J + ──────⎟\n",
       "⎝⎣x_{2}⎦             ⎝ 2  ⎠                       2⋅Lᵣ ⎠"
      ]
     },
     "execution_count": 4,
     "metadata": {},
     "output_type": "execute_result"
    }
   ],
   "source": [
    "circ.potential()"
   ]
  },
  {
   "cell_type": "markdown",
   "metadata": {},
   "source": [
    "Note that it also returns a vector of the position variables. And the capacitance matrix and kinetic energy can be found by:"
   ]
  },
  {
   "cell_type": "code",
   "execution_count": 5,
   "metadata": {},
   "outputs": [
    {
     "data": {
      "image/png": "[encoded data removed]",
      "text/latex": [
       "$$\\left ( \\left[\\begin{matrix}p_{1}\\\\p_{2}\\end{matrix}\\right], \\quad C_{in} V_{g} p_{1} + \\frac{p_{1} \\left(\\frac{C_{g} p_{2}}{- C_{g}^{2} + \\left(C_{B} + C_{g}\\right) \\left(C_{g} + C_{r} + C_{in}\\right)} + \\frac{p_{1} \\left(C_{B} + C_{g}\\right)}{- C_{g}^{2} + \\left(C_{B} + C_{g}\\right) \\left(C_{g} + C_{r} + C_{in}\\right)}\\right)}{2} + \\frac{p_{2} \\left(\\frac{C_{g} p_{1}}{- C_{g}^{2} + \\left(C_{B} + C_{g}\\right) \\left(C_{g} + C_{r} + C_{in}\\right)} + \\frac{p_{2} \\left(C_{g} + C_{r} + C_{in}\\right)}{- C_{g}^{2} + \\left(C_{B} + C_{g}\\right) \\left(C_{g} + C_{r} + C_{in}\\right)}\\right)}{2}\\right )$$"
      ],
      "text/plain": [
       "⎛                                  ⎛               C_g⋅p_{2}                  \n",
       "⎜                            p_{1}⋅⎜──────────────────────────────────────── +\n",
       "⎜                                  ⎜     2                                    \n",
       "⎜⎡p_{1}⎤                           ⎝- C_g  + (C_B + C_g)⋅(C_g + Cᵣ + C_{in})  \n",
       "⎜⎢     ⎥, C_{in}⋅V_g⋅p_{1} + ─────────────────────────────────────────────────\n",
       "⎝⎣p_{2}⎦                                                                  2   \n",
       "\n",
       "            p_{1}⋅(C_B + C_g)            ⎞         ⎛               C_g⋅p_{1}  \n",
       " ────────────────────────────────────────⎟   p_{2}⋅⎜──────────────────────────\n",
       "      2                                  ⎟         ⎜     2                    \n",
       " - C_g  + (C_B + C_g)⋅(C_g + Cᵣ + C_{in})⎠         ⎝- C_g  + (C_B + C_g)⋅(C_g \n",
       "────────────────────────────────────────── + ─────────────────────────────────\n",
       "                                                                              \n",
       "\n",
       "                        p_{2}⋅(C_g + Cᵣ + C_{in})        ⎞⎞\n",
       "────────────── + ────────────────────────────────────────⎟⎟\n",
       "                      2                                  ⎟⎟\n",
       "+ Cᵣ + C_{in})   - C_g  + (C_B + C_g)⋅(C_g + Cᵣ + C_{in})⎠⎟\n",
       "──────────────────────────────────────────────────────────⎟\n",
       "            2                                             ⎠"
      ]
     },
     "execution_count": 5,
     "metadata": {},
     "output_type": "execute_result"
    }
   ],
   "source": [
    "circ.kinetic()"
   ]
  },
  {
   "cell_type": "code",
   "execution_count": 6,
   "metadata": {},
   "outputs": [
    {
     "data": {
      "image/png": "[encoded data removed]",
      "text/latex": [
       "$$\\left ( \\left[\\begin{matrix}C_{g} + C_{r} + C_{in} & - C_{g}\\\\- C_{g} & C_{B} + C_{g}\\end{matrix}\\right], \\quad \\left[\\begin{matrix}C_{in} V_{g}\\\\0\\end{matrix}\\right]\\right )$$"
      ],
      "text/plain": [
       "⎛⎡C_g + Cᵣ + C_{in}    -C_g   ⎤  ⎡C_{in}⋅V_g⎤⎞\n",
       "⎜⎢                            ⎥, ⎢          ⎥⎟\n",
       "⎝⎣      -C_g         C_B + C_g⎦  ⎣    0     ⎦⎠"
      ]
     },
     "execution_count": 6,
     "metadata": {},
     "output_type": "execute_result"
    }
   ],
   "source": [
    "circ.C_mat()"
   ]
  },
  {
   "cell_type": "markdown",
   "metadata": {},
   "source": [
    "The parameters of the circuit can be found using:"
   ]
  },
  {
   "cell_type": "code",
   "execution_count": 7,
   "metadata": {},
   "outputs": [
    {
     "data": {
      "image/png": "[encoded data removed]",
      "text/latex": [
       "$$\\left[\\begin{matrix}C_{r}\\\\L_{r}\\\\C_{in}\\\\C_{g}\\\\C_{B}\\\\E_{J}\\end{matrix}\\right]$$"
      ],
      "text/plain": [
       "⎡  Cᵣ  ⎤\n",
       "⎢      ⎥\n",
       "⎢  Lᵣ  ⎥\n",
       "⎢      ⎥\n",
       "⎢C_{in}⎥\n",
       "⎢      ⎥\n",
       "⎢ C_g  ⎥\n",
       "⎢      ⎥\n",
       "⎢ C_B  ⎥\n",
       "⎢      ⎥\n",
       "⎣ E_J  ⎦"
      ]
     },
     "execution_count": 7,
     "metadata": {},
     "output_type": "execute_result"
    }
   ],
   "source": [
    "circ.circuit_symbols()"
   ]
  },
  {
   "cell_type": "markdown",
   "metadata": {},
   "source": [
    "And if we have introduced any type of control, we can check these out using:"
   ]
  },
  {
   "cell_type": "code",
   "execution_count": 8,
   "metadata": {},
   "outputs": [
    {
     "data": {
      "image/png": "[encoded data removed]",
      "text/latex": [
       "$$\\left[\\begin{matrix}V_{g}\\\\\\Phi\\end{matrix}\\right]$$"
      ],
      "text/plain": [
       "⎡V_g ⎤\n",
       "⎢    ⎥\n",
       "⎣\\Phi⎦"
      ]
     },
     "execution_count": 8,
     "metadata": {},
     "output_type": "execute_result"
    }
   ],
   "source": [
    "circ.control_symbols()"
   ]
  },
  {
   "cell_type": "markdown",
   "metadata": {},
   "source": [
    "## Coordinates\n",
    "The way the program figures out how many degrees of freedom there are in the system is by calling the __number_of_coords__ method:"
   ]
  },
  {
   "cell_type": "code",
   "execution_count": 9,
   "metadata": {},
   "outputs": [
    {
     "data": {
      "image/png": "[encoded data removed]",
      "text/latex": [
       "$$2$$"
      ],
      "text/plain": [
       "2"
      ]
     },
     "execution_count": 9,
     "metadata": {},
     "output_type": "execute_result"
    }
   ],
   "source": [
    "circ.number_of_coords()"
   ]
  },
  {
   "cell_type": "markdown",
   "metadata": {},
   "source": [
    "If we were to remove a coordinate, say the readout resonator, from the system we could do it like this:"
   ]
  },
  {
   "cell_type": "code",
   "execution_count": 10,
   "metadata": {},
   "outputs": [
    {
     "data": {
      "image/png": "[encoded data removed]",
      "text/latex": [
       "$$\\left ( \\left[\\begin{matrix}x_{2}\\end{matrix}\\right], \\quad - 2 E_{J} \\cos{\\left (\\frac{\\Phi}{2} \\right )} \\cos{\\left (x_{2} \\right )} + 2 E_{J}\\right )$$"
      ],
      "text/plain": [
       "⎛                    ⎛\\Phi⎞                   ⎞\n",
       "⎜[x_{2}], - 2⋅E_J⋅cos⎜────⎟⋅cos(x_{2}) + 2⋅E_J⎟\n",
       "⎝                    ⎝ 2  ⎠                   ⎠"
      ]
     },
     "execution_count": 10,
     "metadata": {},
     "output_type": "execute_result"
    }
   ],
   "source": [
    "circ.ignore_coords(1)\n",
    "circ.potential()"
   ]
  },
  {
   "cell_type": "markdown",
   "metadata": {},
   "source": [
    "When we defined the circuit we removed the zero'th coordinate, assuming it was ground. We can include previously ignored coordinates using:"
   ]
  },
  {
   "cell_type": "code",
   "execution_count": 11,
   "metadata": {},
   "outputs": [
    {
     "data": {
      "image/png": "[encoded data removed]",
      "text/latex": [
       "$$\\left ( \\left[\\begin{matrix}x_{0}\\\\x_{1}\\\\x_{2}\\end{matrix}\\right], \\quad - 2 E_{J} \\sin{\\left (x_{0} \\right )} \\sin{\\left (x_{2} \\right )} \\cos{\\left (\\frac{\\Phi}{2} \\right )} - 2 E_{J} \\cos{\\left (\\frac{\\Phi}{2} \\right )} \\cos{\\left (x_{0} \\right )} \\cos{\\left (x_{2} \\right )} + 2 E_{J} + \\frac{x_{0}^{2}}{2 L_{r}} - \\frac{x_{0} x_{1}}{L_{r}} + \\frac{x_{1}^{2}}{2 L_{r}}\\right )$$"
      ],
      "text/plain": [
       "⎛⎡x_{0}⎤                                                                      \n",
       "⎜⎢     ⎥                                   ⎛\\Phi⎞            ⎛\\Phi⎞           \n",
       "⎜⎢x_{1}⎥, - 2⋅E_J⋅sin(x_{0})⋅sin(x_{2})⋅cos⎜────⎟ - 2⋅E_J⋅cos⎜────⎟⋅cos(x_{0})\n",
       "⎜⎢     ⎥                                   ⎝ 2  ⎠            ⎝ 2  ⎠           \n",
       "⎝⎣x_{2}⎦                                                                      \n",
       "\n",
       "                           2                      2⎞\n",
       "                      x_{0}    x_{0}⋅x_{1}   x_{1} ⎟\n",
       "⋅cos(x_{2}) + 2⋅E_J + ────── - ─────────── + ──────⎟\n",
       "                       2⋅Lᵣ         Lᵣ        2⋅Lᵣ ⎟\n",
       "                                                   ⎠"
      ]
     },
     "execution_count": 11,
     "metadata": {},
     "output_type": "execute_result"
    }
   ],
   "source": [
    "circ.use_coords(0,1)\n",
    "circ.potential()"
   ]
  },
  {
   "cell_type": "markdown",
   "metadata": {},
   "source": [
    "We could specify a transformation of the coordinates using:"
   ]
  },
  {
   "cell_type": "code",
   "execution_count": 12,
   "metadata": {},
   "outputs": [
    {
     "data": {
      "image/png": "[encoded data removed]",
      "text/latex": [
       "$$\\left ( \\left[\\begin{matrix}x_{0}\\\\x_{1}\\\\x_{2}\\end{matrix}\\right], \\quad - 2 E_{J} \\cos{\\left (\\frac{\\Phi}{2} \\right )} \\cos{\\left (x_{2} \\right )} + 2 E_{J} + \\frac{x_{1}^{2}}{2 L_{r}}\\right )$$"
      ],
      "text/plain": [
       "⎛⎡x_{0}⎤                                              2⎞\n",
       "⎜⎢     ⎥             ⎛\\Phi⎞                      x_{1} ⎟\n",
       "⎜⎢x_{1}⎥, - 2⋅E_J⋅cos⎜────⎟⋅cos(x_{2}) + 2⋅E_J + ──────⎟\n",
       "⎜⎢     ⎥             ⎝ 2  ⎠                       2⋅Lᵣ ⎟\n",
       "⎝⎣x_{2}⎦                                               ⎠"
      ]
     },
     "execution_count": 12,
     "metadata": {},
     "output_type": "execute_result"
    }
   ],
   "source": [
    "circ.transform_coords([1,1,1],[-1,1,0],[-1,0,1])\n",
    "circ.potential()"
   ]
  },
  {
   "cell_type": "code",
   "execution_count": 13,
   "metadata": {},
   "outputs": [
    {
     "data": {
      "image/png": "[encoded data removed]",
      "text/latex": [
       "$$\\left ( \\left[\\begin{matrix}0 & 0 & 0\\\\0 & C_{g} + C_{r} + C_{in} & - C_{g}\\\\0 & - C_{g} & C_{B} + C_{g}\\end{matrix}\\right], \\quad \\left[\\begin{matrix}0\\\\C_{in} V_{g}\\\\0\\end{matrix}\\right]\\right )$$"
      ],
      "text/plain": [
       "⎛⎡0          0              0    ⎤  ⎡    0     ⎤⎞\n",
       "⎜⎢                               ⎥  ⎢          ⎥⎟\n",
       "⎜⎢0  C_g + Cᵣ + C_{in}    -C_g   ⎥, ⎢C_{in}⋅V_g⎥⎟\n",
       "⎜⎢                               ⎥  ⎢          ⎥⎟\n",
       "⎝⎣0        -C_g         C_B + C_g⎦  ⎣    0     ⎦⎠"
      ]
     },
     "execution_count": 13,
     "metadata": {},
     "output_type": "execute_result"
    }
   ],
   "source": [
    "circ.C_mat()"
   ]
  },
  {
   "cell_type": "markdown",
   "metadata": {},
   "source": [
    "Here it is pretty apparent that the ground node/COM coordinate is completely decoupled from the rest of the circuit. We can reset the coordinates by calling:"
   ]
  },
  {
   "cell_type": "code",
   "execution_count": 14,
   "metadata": {},
   "outputs": [
    {
     "data": {
      "image/png": "[encoded data removed]",
      "text/latex": [
       "$$\\left ( \\left[\\begin{matrix}x_{0}\\\\x_{1}\\\\x_{2}\\end{matrix}\\right], \\quad - 2 E_{J} \\sin{\\left (x_{0} \\right )} \\sin{\\left (x_{2} \\right )} \\cos{\\left (\\frac{\\Phi}{2} \\right )} - 2 E_{J} \\cos{\\left (\\frac{\\Phi}{2} \\right )} \\cos{\\left (x_{0} \\right )} \\cos{\\left (x_{2} \\right )} + 2 E_{J} + \\frac{x_{0}^{2}}{2 L_{r}} - \\frac{x_{0} x_{1}}{L_{r}} + \\frac{x_{1}^{2}}{2 L_{r}}\\right )$$"
      ],
      "text/plain": [
       "⎛⎡x_{0}⎤                                                                      \n",
       "⎜⎢     ⎥                                   ⎛\\Phi⎞            ⎛\\Phi⎞           \n",
       "⎜⎢x_{1}⎥, - 2⋅E_J⋅sin(x_{0})⋅sin(x_{2})⋅cos⎜────⎟ - 2⋅E_J⋅cos⎜────⎟⋅cos(x_{0})\n",
       "⎜⎢     ⎥                                   ⎝ 2  ⎠            ⎝ 2  ⎠           \n",
       "⎝⎣x_{2}⎦                                                                      \n",
       "\n",
       "                           2                      2⎞\n",
       "                      x_{0}    x_{0}⋅x_{1}   x_{1} ⎟\n",
       "⋅cos(x_{2}) + 2⋅E_J + ────── - ─────────── + ──────⎟\n",
       "                       2⋅Lᵣ         Lᵣ        2⋅Lᵣ ⎟\n",
       "                                                   ⎠"
      ]
     },
     "execution_count": 14,
     "metadata": {},
     "output_type": "execute_result"
    }
   ],
   "source": [
    "circ.reset_coords()\n",
    "circ.potential()"
   ]
  }
 ],
 "metadata": {
  "kernelspec": {
   "display_name": "Python 3",
   "language": "python",
   "name": "python3"
  },
  "language_info": {
   "codemirror_mode": {
    "name": "ipython",
    "version": 3
   },
   "file_extension": ".py",
   "mimetype": "text/x-python",
   "name": "python",
   "nbconvert_exporter": "python",
   "pygments_lexer": "ipython3",
   "version": "3.6.8"
  }
 },
 "nbformat": 4,
 "nbformat_minor": 2
}
